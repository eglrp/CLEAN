{
 "cells": [
  {
   "cell_type": "code",
   "execution_count": 31,
   "metadata": {
    "collapsed": false
   },
   "outputs": [
    {
     "name": "stdout",
     "output_type": "stream",
     "text": [
      "Len of origin data: 24\n",
      "Len of Dict: 21\n",
      "Len of result: 16\n",
      "None\n"
     ]
    }
   ],
   "source": [
    "def compress(uncompressed):\n",
    "    \"\"\"Compress a string to a list of output symbols.\"\"\"\n",
    " \n",
    "    # Build the dictionary.\n",
    "#     dict_size = 256\n",
    "#     dictionary = dict((chr(i), i) for i in xrange(dict_size))\n",
    "    # in Python 3: dictionary = {chr(i): i for i in range(dict_size)}\n",
    "    print 'Len of origin data:', len(uncompressed)\n",
    "    dict_size = 0\n",
    "    dictionary = {}\n",
    "    for e in uncompressed:\n",
    "        if e not in dictionary:\n",
    "            dictionary[e] = dict_size + 1\n",
    "            dict_size += 1\n",
    "    w = \"\"\n",
    "    result = []\n",
    "    for c in uncompressed:\n",
    "        if w:\n",
    "            wc = w +'_'+ c\n",
    "        else:\n",
    "            wc = c\n",
    "        if wc in dictionary:\n",
    "            w = wc\n",
    "        else:\n",
    "            result.append(dictionary[w])\n",
    "            # Add wc to the dictionary.\n",
    "            if dict_size < 1535140:\n",
    "                dictionary[wc] = dict_size\n",
    "                dict_size += 1\n",
    "            w = c\n",
    " \n",
    "    # Output the code for w.\n",
    "    if w:\n",
    "        result.append(dictionary[w])\n",
    "    print 'Len of Dict:', len(dictionary)\n",
    "    print 'Len of result:', len(result)\n",
    "#     return result\n",
    " \n",
    "# How to use:\n",
    "compressed = compress('TOBEORNOTTOBEORTOBEORNOT')\n",
    "print (compressed)\n",
    "# decompressed = decompress(compressed)\n",
    "# print (decompressed)"
   ]
  },
  {
   "cell_type": "code",
   "execution_count": 32,
   "metadata": {
    "collapsed": false
   },
   "outputs": [
    {
     "name": "stdout",
     "output_type": "stream",
     "text": [
      "3343432\n",
      "Len of origin data: 3343432\n",
      "Len of Dict: 857210\n",
      "Len of result: 800364\n"
     ]
    }
   ],
   "source": [
    "with open('../data/T-S-press_4cpp.txt') as fin:\n",
    "    lines = fin.readlines()[:80000]\n",
    "    data = [line.strip().split(' ')[2:] for line in lines]\n",
    "    oneLine = [x for r in data for x in r]\n",
    "    print len(oneLine)\n",
    "    compressed = compress(oneLine)\n",
    "        "
   ]
  },
  {
   "cell_type": "code",
   "execution_count": 12,
   "metadata": {
    "collapsed": false,
    "scrolled": true
   },
   "outputs": [
    {
     "name": "stdout",
     "output_type": "stream",
     "text": [
      "56847 96667\n",
      "323000\n",
      "379847\n"
     ]
    }
   ],
   "source": [
    "# 153513\n",
    "with open('C:/Users/roczh/result_capsule_bu_plus/capsuleBUPlus_K25_80000.blk.txt') as blkin:\n",
    "    lines = blkin.readlines()\n",
    "    single_number = int(lines[1])\n",
    "    pats_number = int(lines[0])\n",
    "    print single_number, pats_number\n",
    "    pats_len = 0\n",
    "    for line in lines[3:]:\n",
    "        pats_len += len(line.strip().split(' '))-1\n",
    "    print pats_len\n",
    "    print pats_len+ single_number"
   ]
  },
  {
   "cell_type": "code",
   "execution_count": 11,
   "metadata": {
    "collapsed": false
   },
   "outputs": [
    {
     "name": "stdout",
     "output_type": "stream",
     "text": [
      "627229\n"
     ]
    }
   ],
   "source": [
    "with open('C:/Users/roczh/result_capsule_bu_plus/capsuleBUPlus_K25_80000.ptr.txt') as ptrin:\n",
    "    lines = ptrin.readlines()[1:]\n",
    "    traj_len = 0\n",
    "    for line in lines:\n",
    "        traj_len += len(line.strip().split(' '))\n",
    "    print traj_len\n",
    "    "
   ]
  },
  {
   "cell_type": "code",
   "execution_count": 13,
   "metadata": {
    "collapsed": false
   },
   "outputs": [
    {
     "data": {
      "text/plain": [
       "1007076"
      ]
     },
     "execution_count": 13,
     "metadata": {},
     "output_type": "execute_result"
    }
   ],
   "source": [
    "379847 + 627229"
   ]
  },
  {
   "cell_type": "code",
   "execution_count": 27,
   "metadata": {
    "collapsed": false
   },
   "outputs": [
    {
     "name": "stdout",
     "output_type": "stream",
     "text": [
      "56847 86694\n",
      "226769\n",
      "283616\n"
     ]
    }
   ],
   "source": [
    "# 153513\n",
    "with open('C:/Users/roczh/result_capsule_td/capsuleTD_K25_80000.blk.txt') as blkin:\n",
    "    lines = blkin.readlines()\n",
    "    single_number = int(lines[1])\n",
    "    pats_number = int(lines[0])\n",
    "    print single_number, pats_number\n",
    "    pats_len = 0\n",
    "    for line in lines[3:]:\n",
    "        pats_len += len(line.strip().split(' '))-1\n",
    "    print pats_len\n",
    "    print pats_len+ single_number"
   ]
  },
  {
   "cell_type": "code",
   "execution_count": 29,
   "metadata": {
    "collapsed": false
   },
   "outputs": [
    {
     "name": "stdout",
     "output_type": "stream",
     "text": [
      "626154\n"
     ]
    }
   ],
   "source": [
    "with open('C:/Users/roczh/result_capsule_td/capsuleTD_K25_80000.ptr.txt') as ptrin:\n",
    "    lines = ptrin.readlines()[1:]\n",
    "    traj_len = 0\n",
    "    for line in lines:\n",
    "        traj_len += len(line.strip().split(' '))\n",
    "    print traj_len\n",
    "    "
   ]
  },
  {
   "cell_type": "code",
   "execution_count": 30,
   "metadata": {
    "collapsed": false
   },
   "outputs": [
    {
     "data": {
      "text/plain": [
       "909770"
      ]
     },
     "execution_count": 30,
     "metadata": {},
     "output_type": "execute_result"
    }
   ],
   "source": [
    "283616+626154"
   ]
  },
  {
   "cell_type": "code",
   "execution_count": null,
   "metadata": {
    "collapsed": true
   },
   "outputs": [],
   "source": []
  }
 ],
 "metadata": {
  "anaconda-cloud": {},
  "kernelspec": {
   "display_name": "Python [default]",
   "language": "python",
   "name": "python2"
  },
  "language_info": {
   "codemirror_mode": {
    "name": "ipython",
    "version": 2
   },
   "file_extension": ".py",
   "mimetype": "text/x-python",
   "name": "python",
   "nbconvert_exporter": "python",
   "pygments_lexer": "ipython2",
   "version": "2.7.12"
  }
 },
 "nbformat": 4,
 "nbformat_minor": 1
}
